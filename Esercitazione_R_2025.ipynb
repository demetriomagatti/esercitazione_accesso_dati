{
 "cells": [
  {
   "cell_type": "markdown",
   "id": "9e4e4645-1a19-4a50-a050-d975676bcd64",
   "metadata": {},
   "source": [
    "## Libraries install and loading"
   ]
  },
  {
   "cell_type": "code",
   "execution_count": null,
   "id": "038f35d9-23f3-4ecb-bb18-47d2a8cc9a65",
   "metadata": {
    "vscode": {
     "languageId": "r"
    }
   },
   "outputs": [],
   "source": [
    "# install.packages(\"openssl\")\n",
    "# install.packages(\"arsenal\")\n",
    "# install.packages(\"reshape\")\n",
    "# install.packages(\"ggplot2\")\n",
    "# install.packages(\"ggnewscale\")"
   ]
  },
  {
   "cell_type": "code",
   "execution_count": null,
   "id": "f5a7e475-94a2-4c07-9c7b-ac450bfbc38f",
   "metadata": {
    "vscode": {
     "languageId": "r"
    }
   },
   "outputs": [],
   "source": [
    "library(ggplot2)\n",
    "library(ggnewscale)"
   ]
  },
  {
   "cell_type": "markdown",
   "id": "4e52cb40-64f3-4a17-807e-a3a116a08ec1",
   "metadata": {},
   "source": [
    "## Data load"
   ]
  },
  {
   "cell_type": "code",
   "execution_count": null,
   "id": "df1123bc-e14c-4db3-ac64-949b7e876226",
   "metadata": {
    "vscode": {
     "languageId": "r"
    }
   },
   "outputs": [],
   "source": [
    "password <- \"\"\n",
    "key <- charToRaw(password)"
   ]
  },
  {
   "cell_type": "code",
   "execution_count": null,
   "id": "95abcc0d-0fbe-41c8-8fdc-ad074ab61f97",
   "metadata": {
    "vscode": {
     "languageId": "r"
    }
   },
   "outputs": [],
   "source": [
    "url <- \"https://gitlab.com/MNCDS/CDS/esercitazione_accesso_dati/-/raw/main/data/encrypted_tabUU.rds?ref_type=heads\"\n",
    "download.file(url, \"encrypted_tabUU.rds\", mode=\"wb\")\n",
    "encrypted_tabUU <- readRDS(\"encrypted_tabUU.rds\")\n",
    "tabUU <- unserialize(openssl::aes_cbc_decrypt(encrypted_tabUU, key))\n",
    "data.table::setDT(tabUU)\n",
    "head(tabUU)"
   ]
  },
  {
   "cell_type": "code",
   "execution_count": null,
   "id": "8b5614fe-c51a-4bfa-a646-bb5e0e70a72f",
   "metadata": {
    "vscode": {
     "languageId": "r"
    }
   },
   "outputs": [],
   "source": [
    "url <- \"https://gitlab.com/MNCDS/CDS/esercitazione_accesso_dati/-/raw/main/data/encrypted_tabUM_RIC.rds?ref_type=heads\"\n",
    "download.file(url, \"encrypted_tabUM_RIC.rds\", mode=\"wb\")\n",
    "encrypted_tabUM_RIC <- readRDS(\"encrypted_tabUM_RIC.rds\")\n",
    "tabUM_RIC <- unserialize(openssl::aes_cbc_decrypt(encrypted_tabUM_RIC, key))\n",
    "data.table::setDT(tabUM_RIC)\n",
    "head(tabUM_RIC)"
   ]
  },
  {
   "cell_type": "code",
   "execution_count": null,
   "id": "e7b038dc-a1bd-4a05-8488-4676ba2b8760",
   "metadata": {
    "vscode": {
     "languageId": "r"
    }
   },
   "outputs": [],
   "source": [
    "url <- \"https://gitlab.com/MNCDS/CDS/esercitazione_accesso_dati/-/raw/main/data/encrypted_Dictionary.rds?ref_type=heads\"\n",
    "download.file(url, \"encrypted_Dictionary.rds\", mode=\"wb\")\n",
    "encrypted_Dictionary <- readRDS(\"encrypted_Dictionary.rds\")\n",
    "Dictionary <- unserialize(openssl::aes_cbc_decrypt(encrypted_Dictionary, key))\n",
    "data.table::setDT(Dictionary)\n",
    "head(Dictionary)"
   ]
  },
  {
   "cell_type": "markdown",
   "id": "2562fbe0-d272-4cee-909b-07cfec708b43",
   "metadata": {},
   "source": [
    "## Tabella UU: esplorazione"
   ]
  },
  {
   "cell_type": "code",
   "execution_count": null,
   "id": "ff1e2a51-0026-48af-9c8b-be2f50a0bc02",
   "metadata": {
    "vscode": {
     "languageId": "r"
    }
   },
   "outputs": [],
   "source": [
    "colnames(tabUU)"
   ]
  },
  {
   "cell_type": "code",
   "execution_count": null,
   "id": "b1278194-33e5-4500-8643-ada95e0b62b9",
   "metadata": {
    "vscode": {
     "languageId": "r"
    }
   },
   "outputs": [],
   "source": [
    "cols_tabUU <- data.frame(variable = colnames(tabUU))\n",
    "cols_tabUU <- merge(\n",
    "    cols_tabUU,\n",
    "    Dictionary[, c(\"variable\", \"label\", \"definition\")],\n",
    "    by = \"variable\",\n",
    "    all.x = TRUE\n",
    ")\n",
    "\n",
    "head(cols_tabUU)"
   ]
  },
  {
   "cell_type": "markdown",
   "id": "023d745a-dc81-41a9-a73d-49a72e0f00d9",
   "metadata": {},
   "source": [
    "### Tabella UU: descrittiva (1)"
   ]
  },
  {
   "cell_type": "code",
   "execution_count": null,
   "id": "02926968-3ec3-4323-b626-652bb44c78e2",
   "metadata": {
    "vscode": {
     "languageId": "r"
    }
   },
   "outputs": [],
   "source": [
    "# Define variables of interest\n",
    "vars_descriptive <- c(\n",
    "    \"age\", \"genderClear\", \"admReas\", \"typeStatus_RIC\", \"typeTrauma\", \"Infections\", \"sofa\", \"saps\", \n",
    "    \"sevInfectionsSepsis3\", \"icuSevInfections_RIC\", \"comorbidities_immunosuppression_RIC\", \"numFailure_admissionValueCat\", \"icuMortality\", \"hospOutcome_RIC\"\n",
    ")\n",
    "\n",
    "# Define grouping variable\n",
    "var_group <- \"Anno\"\n",
    "\n",
    "# Define subset and rename columns for better output readability\n",
    "tabUU_descriptive <- tabUU[, c(..vars_descriptive, ..var_group)]\n",
    "labels_descriptive <- Dictionary$label[match(vars_descriptive, Dictionary$variable)]\n",
    "labels_descriptive[is.na(labels_descriptive)] <- vars_descriptive[is.na(labels_descriptive)]\n",
    "data.table::setnames(tabUU_descriptive, old = vars_descriptive, new = labels_descriptive)\n",
    "\n",
    "# Describe\n",
    "fml <- as.formula(paste(var_group, \"~ .\"))\n",
    "table_d1 <- arsenal::tableby(\n",
    "    fml,\n",
    "    data = tabUU_descriptive,\n",
    "    numeric.test = 'kwt',\n",
    "    numeric.stats = c( 'meansd', 'medianq1q3', 'Nmiss' ),\n",
    "    selectall.stats = c(\"countpct\",\"Nmiss\"),\n",
    "    cat.stats = c(\"countpct\",\"Nmiss\"),\n",
    "    digits = 0,\n",
    "    conf.level = 0.95,\n",
    "    total.pos = 'before',\n",
    "    stats.labels = list( 'Nmiss' = 'Missing' ),\n",
    "    cat.simplify = FALSE\n",
    ")\n",
    "\n",
    "summary(table_d1, text = TRUE)"
   ]
  },
  {
   "cell_type": "markdown",
   "id": "11fbe683-599f-46d0-b46e-057a23273512",
   "metadata": {},
   "source": [
    "## Tabella UM_RIC: esplorazione"
   ]
  },
  {
   "cell_type": "code",
   "execution_count": null,
   "id": "3a25b926-bef4-457b-a238-ecb2b55aca2e",
   "metadata": {
    "vscode": {
     "languageId": "r"
    }
   },
   "outputs": [],
   "source": [
    "colnames(tabUM_RIC)"
   ]
  },
  {
   "cell_type": "code",
   "execution_count": null,
   "id": "934275d8-4d70-4a89-bb10-16fec2a44a50",
   "metadata": {
    "vscode": {
     "languageId": "r"
    }
   },
   "outputs": [],
   "source": [
    "cols_tabUM_RIC <- data.frame(variable = colnames(tabUM_RIC))\n",
    "cols_tabUM_RIC <- merge(\n",
    "    cols_tabUM_RIC,\n",
    "    Dictionary[, c(\"variable\", \"label\", \"definition\")],\n",
    "    by = \"variable\",\n",
    "    all.x = TRUE\n",
    ")\n",
    "\n",
    "head(cols_tabUM_RIC)"
   ]
  },
  {
   "cell_type": "markdown",
   "id": "a37a212a-036d-4f0f-b6f3-ae705eb859aa",
   "metadata": {},
   "source": [
    "## Analisi "
   ]
  },
  {
   "cell_type": "markdown",
   "id": "e2800f5d-17d0-4911-86b7-6178dc69049e",
   "metadata": {},
   "source": [
    "### Tabella UU: descrittiva (2)\n",
    "\n",
    "Tabella UU arricchita con informazioni su infezioni all'ammissione"
   ]
  },
  {
   "cell_type": "code",
   "execution_count": null,
   "id": "65d45a70-5b41-4e55-b9bb-8926adfccb69",
   "metadata": {
    "vscode": {
     "languageId": "r"
    }
   },
   "outputs": [],
   "source": [
    "# Define list of columns with variables of interest\n",
    "columns_fungi <- c(\n",
    "    \"albicans_RIC\",\n",
    "    \"auris_RIC\",\n",
    "    \"glabrata_RIC\",\n",
    "    \"krusei_RIC\",\n",
    "    \"otherMushrooms_RIC\",\n",
    "    \"parapsilosis_RIC\",\n",
    "    \"tropicalis_RIC\",\n",
    "    \"undefinedCandida_RIC\",\n",
    "    \"otherCandida_RIC\",\n",
    "    \"pneumocystisJirovecii_RIC\"\n",
    ")\n",
    "\n",
    "column_aspergillus <- \"aspergillus_RIC\""
   ]
  },
  {
   "cell_type": "code",
   "execution_count": null,
   "id": "27d40930-9ca0-4e7a-98ea-5a1f8b731307",
   "metadata": {
    "vscode": {
     "languageId": "r"
    }
   },
   "outputs": [],
   "source": [
    "# Keep only rows for infections at admission to ICU in tabUM_RIC\n",
    "tabUM_RIC_admission <- tabUM_RIC[Infezione == \"AMM\"]\n",
    "\n",
    "# Create summary column True/False \n",
    "# True if at least one column in columns_fungi is (1)\n",
    "# False if all columns in columns_fungi are (0)\n",
    "tabUM_RIC_admission[\n",
    "    ,\n",
    "    ohter_fungi := apply(.SD, 1, function(x) as.integer(any(x == \"1\"))),\n",
    "    .SDcols = columns_fungi\n",
    "]"
   ]
  },
  {
   "cell_type": "code",
   "execution_count": null,
   "id": "f5f3940c-0d56-473e-91e8-8db248fea65b",
   "metadata": {
    "vscode": {
     "languageId": "r"
    }
   },
   "outputs": [],
   "source": [
    "# Group by year, centreCode, admissionKey\n",
    "# A single block for combination (year, centreCode, admissionKey) is created\n",
    "# If at least one row has aspergillus_RIC == \"1\"\n",
    "# -> microorganism \"Aspergillo\"\n",
    "# !!! Cases with both \"Aspergillo\" and other fungi are labelled in the same way as \"Aspergillo\"\n",
    "\n",
    "table_micro_year <- tabUM_RIC_admission[, .(\n",
    "    microorganism_adm = data.table::fifelse(\n",
    "        any(aspergillus_RIC == \"1\"), \n",
    "        \"Aspergillo\",\n",
    "        data.table::fifelse(\n",
    "            any(ohter_fungi == 1), \n",
    "            \"Altri funghi\",\n",
    "            data.table::fifelse(\n",
    "                any(num_micro > 0),\n",
    "                \"Altro\",\n",
    "                NA_character_\n",
    "            )\n",
    "        )\n",
    "    )\n",
    "), by = .(admissionKey)]\n",
    "\n",
    "table(table_micro_year$microorganism_adm)"
   ]
  },
  {
   "cell_type": "code",
   "execution_count": null,
   "id": "7a707b2b-de2c-43c9-a8d3-9835ea911cec",
   "metadata": {
    "vscode": {
     "languageId": "r"
    }
   },
   "outputs": [],
   "source": [
    "# If we want to distinguish cases where aspergillus is the only present fungus\n",
    "# we need to add another fifelse\n",
    "\n",
    "table_micro_year <- tabUM_RIC_admission[, .(\n",
    "    microorganism_adm = data.table::fifelse(\n",
    "        any(aspergillus_RIC == \"1\") & any(ohter_fungi == 1), \n",
    "        \"Aspergillo + altro fungo\",\n",
    "        data.table::fifelse(\n",
    "            any(aspergillus_RIC == \"1\"),\n",
    "            \"Aspergillo\",\n",
    "            data.table::fifelse(\n",
    "                any(ohter_fungi == 1), \n",
    "                \"Altri funghi\",\n",
    "                data.table::fifelse(\n",
    "                    any(num_micro > 0),\n",
    "                    \"Altro\",\n",
    "                    NA_character_\n",
    "                )\n",
    "            )\n",
    "        )\n",
    "    )\n",
    "), by = .(admissionKey)]\n",
    "\n",
    "table(table_micro_year$microorganism_adm)"
   ]
  },
  {
   "cell_type": "code",
   "execution_count": null,
   "id": "d3b2dcfb-d66c-417c-bec3-338f23b367b6",
   "metadata": {
    "vscode": {
     "languageId": "r"
    }
   },
   "outputs": [],
   "source": [
    "# We can just keep the information in this table or\n",
    "# \n",
    "# We can add it to our main table with one row per patient\n",
    "\n",
    "if (!(\"microorganism_adm\" %in% colnames(tabUU))) {\n",
    "    tabUU <- merge(\n",
    "        tabUU,\n",
    "        table_micro_year,\n",
    "        by = c(\"admissionKey\"),\n",
    "        all.x = TRUE  \n",
    "    ) \n",
    "}\n",
    "\n",
    "table(tabUU$microorganism_adm, exclude = NULL)"
   ]
  },
  {
   "cell_type": "code",
   "execution_count": null,
   "id": "e7b74366-548b-45d4-ab25-a6df90f8191b",
   "metadata": {
    "vscode": {
     "languageId": "r"
    }
   },
   "outputs": [],
   "source": [
    "# Define variables of interest\n",
    "vars_descriptive <- c(\n",
    "    \"age\", \"genderClear\", \"admReas\", \"typeStatus_RIC\", \"typeTrauma\", \"Infections\", \"sofa\", \"saps\", \n",
    "    \"sevInfectionsSepsis3\", \"icuSevInfections_RIC\", \"comorbidities_immunosuppression_RIC\", \"numFailure_admissionValueCat\", \"icuMortality\", \"hospOutcome_RIC\"\n",
    ")\n",
    "\n",
    "# Define grouping variable\n",
    "var_group <- \"microorganism_adm\"\n",
    "\n",
    "# Define subset and rename columns for better output readability\n",
    "tabUU_descriptive <- tabUU[, c(..vars_descriptive, ..var_group)]\n",
    "labels_descriptive <- Dictionary$label[match(vars_descriptive, Dictionary$variable)]\n",
    "labels_descriptive[is.na(labels_descriptive)] <- vars_descriptive[is.na(labels_descriptive)]\n",
    "data.table::setnames(tabUU_descriptive, old = vars_descriptive, new = labels_descriptive)\n",
    "\n",
    "# Describe\n",
    "fml <- as.formula(paste(var_group, \"~ .\"))\n",
    "table_d2 <- arsenal::tableby(\n",
    "    fml,\n",
    "    data = tabUU_descriptive,\n",
    "    numeric.test = 'kwt',\n",
    "    numeric.stats = c( 'meansd', 'medianq1q3', 'Nmiss' ),\n",
    "    selectall.stats = c(\"countpct\",\"Nmiss\"),\n",
    "    cat.stats = c(\"countpct\",\"Nmiss\"),\n",
    "    digits = 0,\n",
    "    conf.level = 0.95,\n",
    "    total.pos = 'before',\n",
    "    stats.labels = list( 'Nmiss' = 'Missing' ),\n",
    "    cat.simplify = FALSE\n",
    ")\n",
    "\n",
    "summary(table_d2, text = TRUE)"
   ]
  },
  {
   "cell_type": "markdown",
   "id": "2cdd4e73-5eea-4ba1-b584-b78dc0e22a50",
   "metadata": {},
   "source": [
    "### Tabella UM: Numero di infezioni, per anno, per microorganismo"
   ]
  },
  {
   "cell_type": "code",
   "execution_count": null,
   "id": "04ecb98a-2f44-411a-9152-9ccd229c2ec8",
   "metadata": {
    "vscode": {
     "languageId": "r"
    }
   },
   "outputs": [],
   "source": [
    "columns_candida <- c(\n",
    "    \"albicans_RIC\", \"auris_RIC\", \"glabrata_RIC\", \"krusei_RIC\", \"parapsilosis_RIC\", \"tropicalis_RIC\", \n",
    "    \"undefinedCandida_RIC\", \"otherCandida_RIC\"\n",
    ")\n",
    "\n",
    "tabUM_RIC[\n",
    "    ,\n",
    "    fungi := apply(.SD, 1, function(x) as.integer(any(x == \"1\"))),\n",
    "    .SDcols = c(columns_fungi, columns_candida, column_aspergillus)\n",
    "]\n",
    "\n",
    "tabUM_RIC[\n",
    "    ,\n",
    "    candida := apply(.SD, 1, function(x) as.integer(any(x == \"1\"))),\n",
    "    .SDcols = columns_candida\n",
    "]                   \n",
    "\n",
    "tabUM_RIC[\n",
    "    ,\n",
    "    aspergillus := apply(.SD, 1, function(x) as.integer(any(x == \"1\"))),\n",
    "    .SDcols = column_aspergillus\n",
    "]\n",
    "                   \n",
    "table_num_inf <- tabUM_RIC[, .(\n",
    "    n_infections       = sum(num_micro > 0),\n",
    "    n_infections_fungi = sum(as.numeric(fungi == TRUE), na.rm = TRUE),\n",
    "    n_infections_asper = sum(as.numeric(aspergillus == TRUE), na.rm = TRUE),\n",
    "    n_infections_candi = sum(as.numeric(candida == TRUE), na.rm = TRUE)\n",
    "), by = Anno]\n",
    "\n",
    "table_num_inf[, `:=`(\n",
    "    perc_fungi_over_infections = round(100*n_infections_fungi/n_infections, 2),\n",
    "    perc_asper_over_infections = round(100*n_infections_asper/n_infections, 2),\n",
    "    perc_asper_over_fungi = round(100*n_infections_asper/n_infections_fungi, 2),\n",
    "    perc_candi_over_infections = round(100*n_infections_candi/n_infections, 2),\n",
    "    perc_candi_over_fungi = round(100*n_infections_candi/n_infections_fungi, 2)\n",
    ")]\n",
    "\n",
    "table_num_inf"
   ]
  },
  {
   "cell_type": "code",
   "execution_count": null,
   "id": "575982a0-2480-434b-8fff-b313fc8b0985",
   "metadata": {
    "vscode": {
     "languageId": "r"
    }
   },
   "outputs": [],
   "source": [
    "options(repr.plot.width = 10, repr.plot.height = 5) \n",
    "\n",
    "plot_n_asper_over_infections <- ggplot(\n",
    "    data = table_num_inf,\n",
    "    aes(x = factor(Anno), y = n_infections_asper, fill = perc_asper_over_infections)\n",
    ") + \n",
    "geom_col() +\n",
    "geom_text(\n",
    "    aes(label = paste0(round(perc_asper_over_infections, 2), \"%\")),\n",
    "    vjust = -0.5, \n",
    "    size = 5\n",
    ") +\n",
    "scale_fill_gradient(\n",
    "    name = \"Percentuale (%)\",\n",
    "    low = \"goldenrod\", high = \"darkred\"\n",
    ") +\n",
    "ylim(0, max(table_num_inf$n_infections_asper, na.rm = TRUE) * 1.2) +\n",
    "labs(\n",
    "    title = \"Infezioni da aspergillo\",\n",
    "    subtitle = \"Percentuale su totale infezioni per anno\",\n",
    "    x = \"\", \n",
    "    y = \"Numero infezioni da aspergillo\",\n",
    "    fill = \"Percentuale (%)\"\n",
    ") +\n",
    "theme_minimal(base_size = 16) +\n",
    "theme(\n",
    "    plot.background = element_rect(fill = \"white\", color = NA),\n",
    "    panel.background = element_rect(fill = \"white\", color = NA),\n",
    "    panel.border = element_rect(color = \"black\", fill = NA, linewidth = 1),\n",
    "    plot.title = element_text(face = \"bold\", hjust = 0.5),\n",
    "    plot.subtitle = element_text(hjust = 0.5)\n",
    ")\n",
    "\n",
    "plot_n_asper_over_infections"
   ]
  },
  {
   "cell_type": "code",
   "execution_count": null,
   "id": "3e45c221-a9f9-48b6-84b3-83c666114243",
   "metadata": {
    "vscode": {
     "languageId": "r"
    }
   },
   "outputs": [],
   "source": [
    "options(repr.plot.width = 12, repr.plot.height = 5) \n",
    "\n",
    "plot_n_fungi_perc_asper <- ggplot(\n",
    "    data = table_num_inf,\n",
    "    aes(x = Anno)\n",
    ") + \n",
    "geom_col(\n",
    "    aes(\n",
    "        y = n_infections_fungi, fill = \"Infezioni fungine\"\n",
    "    ),\n",
    "    alpha = 0.5\n",
    ") + \n",
    "scale_fill_manual(name = NULL, values =  c(\"Infezioni fungine\" = \"grey80\")) +\n",
    "ggnewscale::new_scale_fill() +\n",
    "geom_col(aes(y = n_infections_asper, fill = perc_asper_over_fungi)) +\n",
    "scale_fill_gradient(\n",
    "    name = \"Infezioni da aspergillo (%)\",\n",
    "    low = \"goldenrod\", high = \"darkred\"\n",
    ") +\n",
    "scale_x_continuous(breaks = table_num_inf$Anno) + \n",
    "geom_text(\n",
    "    aes(y = n_infections_asper, label = paste0(round(perc_asper_over_fungi, 2), \"%\")),\n",
    "    vjust = -0.5, \n",
    "    size = 5\n",
    ") +\n",
    "labs(\n",
    "    title = \"Infezioni fungine\",\n",
    "    subtitle = \"Percentuale di infezioni da aspergillo su infezioni fungine\",\n",
    "    x = \"\", \n",
    "    y = \"Numero infezioni\",\n",
    "    fill = \"Infezioni da aspergillo (%)\"\n",
    ") +\n",
    "theme_minimal(base_size = 16) +\n",
    "theme(\n",
    "    plot.background = element_rect(fill = \"white\", color = NA),\n",
    "    panel.background = element_rect(fill = \"white\", color = NA),\n",
    "    panel.border = element_rect(color = \"black\", fill = NA, linewidth = 1),\n",
    "    plot.title = element_text(face = \"bold\", hjust = 0.5),\n",
    "    plot.subtitle = element_text(hjust = 0.5),\n",
    "    panel.grid.major.x = element_blank(),\n",
    "    panel.grid.minor = element_blank()\n",
    ")\n",
    "\n",
    "plot_n_fungi_perc_asper"
   ]
  },
  {
   "cell_type": "markdown",
   "id": "107ae6b4-7330-4ef3-afe3-24195edc2aaa",
   "metadata": {},
   "source": [
    "### Tabella UM: Numero di infezioni, per anno, per microorganismo"
   ]
  },
  {
   "cell_type": "code",
   "execution_count": null,
   "id": "2efcc6ef-5459-4347-8572-3d261f85e0a7",
   "metadata": {
    "vscode": {
     "languageId": "r"
    }
   },
   "outputs": [],
   "source": [
    "tabUM_RIC$Infezione[tabUM_RIC$Infezione %in% \"NEW\"] <- \"DEG\"\n",
    "\n",
    "table_num_inf_amm_deg <- tabUM_RIC[, .(\n",
    "    n_infections_ad       = sum(num_micro > 0),\n",
    "    n_infections_fungi_ad = sum(as.numeric(fungi == TRUE), na.rm = TRUE),\n",
    "    n_infections_asper_ad = sum(as.numeric(aspergillus == TRUE), na.rm = TRUE),\n",
    "    n_infections_candi_ad = sum(as.numeric(candida == TRUE), na.rm = TRUE)\n",
    "), by = .(Anno, Infezione)]\n",
    "\n",
    "table_num_inf_amm_deg <- merge(\n",
    "    table_num_inf_amm_deg,\n",
    "    table_num_inf,\n",
    "    by = \"Anno\",\n",
    "    all.x = TRUE\n",
    ")\n",
    "\n",
    "table_num_inf_amm_deg[, `:=`(\n",
    "    perc_asper_over_fungi_ad = round(100*n_infections_asper_ad/n_infections_asper, 2),\n",
    "    Infezione = factor(Infezione, levels = c(\"AMM\", \"DEG\"))\n",
    ")]\n",
    "\n",
    "head(table_num_inf_amm_deg)"
   ]
  },
  {
   "cell_type": "code",
   "execution_count": null,
   "id": "94ddd621-c0a6-4ceb-8a69-1259765384f6",
   "metadata": {
    "vscode": {
     "languageId": "r"
    }
   },
   "outputs": [],
   "source": [
    "options(repr.plot.width = 5, repr.plot.height = 7) \n",
    "\n",
    "plot_perc_asper_amm_deg <- ggplot(\n",
    "    data = table_num_inf_amm_deg,\n",
    "    aes(x = Anno, y = perc_asper_over_fungi, fill = Infezione)\n",
    ") +\n",
    "geom_col(width = 1, color = \"white\", position = \"stack\") +\n",
    "geom_text(\n",
    "    aes(label = paste0(perc_asper_over_fungi_ad, \"%\")),\n",
    "    position = position_stack(vjust = 0.6),\n",
    "    size = 4,\n",
    "    color = \"white\",\n",
    "    # fontface = \"bold\"\n",
    ") +\n",
    "coord_polar(theta = \"x\", start = 0) +\n",
    "scale_x_continuous(breaks = table_num_inf_amm_deg$Anno) + \n",
    "scale_fill_manual(\n",
    "    values = c(\"AMM\" = \"goldenrod\", \"DEG\" = \"darkred\"),\n",
    "    labels = c(\"Ammissione\", \"Degenza\")\n",
    ") +\n",
    "labs(\n",
    "    title = \"Infezioni da aspergillo\",\n",
    "    subtitle = \"Periodo di insorgenza infezione\",\n",
    "    fill = \"\",\n",
    "    x = NULL,\n",
    "    y = NULL\n",
    ") +\n",
    "theme_minimal(base_size = 16) +\n",
    "theme(\n",
    "    axis.text.y = element_blank(),\n",
    "    axis.text.x = element_text(face = \"bold\", size = 14),\n",
    "    axis.ticks = element_blank(),    \n",
    "    panel.grid = element_blank(),\n",
    "    legend.position = \"bottom\",\n",
    "    plot.title = element_text(face = \"bold\", hjust = 0.5),\n",
    "    plot.subtitle = element_text(hjust = 0.5),\n",
    "    plot.background = element_rect(fill = \"white\", color = NA),\n",
    "    panel.background = element_rect(fill = \"white\", color = NA)\n",
    ")\n",
    "\n",
    "plot_perc_asper_amm_deg"
   ]
  },
  {
   "cell_type": "code",
   "execution_count": null,
   "id": "a14c91c9-63e6-46bc-a2cc-8f0822338ff7",
   "metadata": {
    "vscode": {
     "languageId": "r"
    }
   },
   "outputs": [],
   "source": []
  }
 ],
 "metadata": {
  "kernelspec": {
   "display_name": "R",
   "language": "R",
   "name": "ir"
  },
  "language_info": {
   "codemirror_mode": "r",
   "file_extension": ".r",
   "mimetype": "text/x-r-source",
   "name": "R",
   "pygments_lexer": "r",
   "version": "4.3.3"
  }
 },
 "nbformat": 4,
 "nbformat_minor": 5
}
